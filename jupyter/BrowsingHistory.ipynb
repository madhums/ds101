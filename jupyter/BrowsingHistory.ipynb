{
 "cells": [
  {
   "cell_type": "markdown",
   "metadata": {
    "hideCode": false,
    "hidePrompt": false
   },
   "source": [
    "# Browsing history"
   ]
  },
  {
   "cell_type": "code",
   "execution_count": 1,
   "metadata": {
    "ExecuteTime": {
     "end_time": "2020-04-15T22:34:20.037370Z",
     "start_time": "2020-04-15T22:34:19.549479Z"
    },
    "hideCode": false,
    "hideOutput": false,
    "hidePrompt": false
   },
   "outputs": [
    {
     "ename": "OperationalError",
     "evalue": "unable to open database file",
     "output_type": "error",
     "traceback": [
      "\u001b[0;31m---------------------------------------------------------------------------\u001b[0m",
      "\u001b[0;31mOperationalError\u001b[0m                          Traceback (most recent call last)",
      "\u001b[0;32m<ipython-input-1-5f6e18af304a>\u001b[0m in \u001b[0;36m<module>\u001b[0;34m\u001b[0m\n\u001b[1;32m      2\u001b[0m \u001b[0;32mimport\u001b[0m \u001b[0mpandas\u001b[0m \u001b[0;32mas\u001b[0m \u001b[0mpd\u001b[0m\u001b[0;34m\u001b[0m\u001b[0;34m\u001b[0m\u001b[0m\n\u001b[1;32m      3\u001b[0m \u001b[0mlimit\u001b[0m \u001b[0;34m=\u001b[0m \u001b[0;36m10\u001b[0m\u001b[0;34m\u001b[0m\u001b[0;34m\u001b[0m\u001b[0m\n\u001b[0;32m----> 4\u001b[0;31m \u001b[0mcon_brave_mac15\u001b[0m \u001b[0;34m=\u001b[0m \u001b[0msqlite3\u001b[0m\u001b[0;34m.\u001b[0m\u001b[0mconnect\u001b[0m\u001b[0;34m(\u001b[0m\u001b[0;34m'../data/browsing-history/brave-mac15-history'\u001b[0m\u001b[0;34m)\u001b[0m\u001b[0;34m\u001b[0m\u001b[0;34m\u001b[0m\u001b[0m\n\u001b[0m\u001b[1;32m      5\u001b[0m \u001b[0mcon_brave_imac\u001b[0m \u001b[0;34m=\u001b[0m \u001b[0msqlite3\u001b[0m\u001b[0;34m.\u001b[0m\u001b[0mconnect\u001b[0m\u001b[0;34m(\u001b[0m\u001b[0;34m'../data/browsing-history/brave-imac-history'\u001b[0m\u001b[0;34m)\u001b[0m\u001b[0;34m\u001b[0m\u001b[0;34m\u001b[0m\u001b[0m\n\u001b[1;32m      6\u001b[0m \u001b[0mcon_moz_mac15\u001b[0m \u001b[0;34m=\u001b[0m \u001b[0msqlite3\u001b[0m\u001b[0;34m.\u001b[0m\u001b[0mconnect\u001b[0m\u001b[0;34m(\u001b[0m\u001b[0;34m'../data/browsing-history/moz-mac15-places.sqlite'\u001b[0m\u001b[0;34m)\u001b[0m\u001b[0;34m\u001b[0m\u001b[0;34m\u001b[0m\u001b[0m\n",
      "\u001b[0;31mOperationalError\u001b[0m: unable to open database file"
     ]
    }
   ],
   "source": [
    "import sqlite3 as sqlite3\n",
    "import pandas as pd\n",
    "limit = 10\n",
    "con_brave_mac15 = sqlite3.connect('../data/browsing-history/brave-mac15-history')\n",
    "con_brave_imac = sqlite3.connect('../data/browsing-history/brave-imac-history')\n",
    "con_moz_mac15 = sqlite3.connect('../data/browsing-history/moz-mac15-places.sqlite')\n",
    "con_moz_imac = sqlite3.connect('../data/browsing-history/moz-imac-places.sqlite')"
   ]
  },
  {
   "cell_type": "code",
   "execution_count": 3,
   "metadata": {
    "hideCode": false,
    "hidePrompt": false
   },
   "outputs": [],
   "source": [
    "# only for brave/chrome\n",
    "terms1 = pd.read_sql('select * from keyword_search_terms', con_brave_mac15)\n",
    "terms2 = pd.read_sql('select * from keyword_search_terms', con_brave_imac)\n",
    "keyword_search_terms = pd.concat([terms1, terms2], sort=False)\n",
    "# keyword_search_terms.head()"
   ]
  },
  {
   "cell_type": "markdown",
   "metadata": {
    "hideCode": false,
    "hidePrompt": false
   },
   "source": [
    "## Prepare final data"
   ]
  },
  {
   "cell_type": "code",
   "execution_count": null,
   "metadata": {
    "hideCode": false,
    "hideOutput": true,
    "hidePrompt": false
   },
   "outputs": [],
   "source": [
    "query_moz = 'SELECT \\\n",
    "    datetime(moz_historyvisits.visit_date/1000000,\"unixepoch\") as visit_time, \\\n",
    "    moz_places.url, \\\n",
    "    moz_places.title \\\n",
    "FROM moz_places, moz_historyvisits \\\n",
    "WHERE moz_places.id = moz_historyvisits.place_id'\n",
    "\n",
    "his_moz_mac15 = pd.read_sql(query_moz, con_moz_mac15)\n",
    "his_moz_imac = pd.read_sql(query_moz, con_moz_imac)\n",
    "\n",
    "# add browser and device features\n",
    "his_moz_mac15['browser'] = 'moz'\n",
    "his_moz_imac['browser'] = 'moz'\n",
    "his_moz_mac15['device'] = 'mac15'\n",
    "his_moz_imac['device'] = 'imac'"
   ]
  },
  {
   "cell_type": "code",
   "execution_count": 1069,
   "metadata": {
    "hideCode": false,
    "hidePrompt": false
   },
   "outputs": [],
   "source": [
    "query_brave = 'select urls.url, title, \\\n",
    "      datetime(visit_time/1000000-11644473600, \"unixepoch\") as visit_time \\\n",
    "    from urls, visits \\\n",
    "    where urls.id = visits.url'\n",
    "\n",
    "his_brave_mac15 = pd.read_sql(query_brave, con_brave_mac15)\n",
    "his_brave_imac = pd.read_sql(query_brave, con_brave_imac)\n",
    "\n",
    "# add browser and device features\n",
    "his_brave_mac15['browser'] = 'brave'\n",
    "his_brave_imac['browser'] = 'brave'\n",
    "his_brave_mac15['device'] = 'mac15'\n",
    "his_brave_imac['device'] = 'imac'"
   ]
  },
  {
   "cell_type": "code",
   "execution_count": 1070,
   "metadata": {
    "hideCode": false,
    "hidePrompt": false
   },
   "outputs": [],
   "source": [
    "# First make sure the columns are the same in both data frames\n",
    "# Then, combine both firefox and brave history\n",
    "his = pd.concat([his_moz_mac15, his_moz_imac,\n",
    "                 his_brave_mac15, his_brave_imac], sort=False)\n",
    "# his.head(2)"
   ]
  },
  {
   "cell_type": "markdown",
   "metadata": {
    "hideCode": false,
    "hidePrompt": false
   },
   "source": [
    "## Add features"
   ]
  },
  {
   "cell_type": "markdown",
   "metadata": {
    "hideCode": false,
    "hidePrompt": false
   },
   "source": [
    "Add domain, path and query"
   ]
  },
  {
   "cell_type": "code",
   "execution_count": 1071,
   "metadata": {
    "hideCode": false,
    "hidePrompt": false
   },
   "outputs": [],
   "source": [
    "from urllib.parse import urlparse\n",
    "\n",
    "his['domain'] = his['url'].apply(lambda x: urlparse(x).netloc)\n",
    "his['path'] = his['url'].apply(lambda x: urlparse(x).path)\n",
    "his['query'] = his['url'].apply(lambda x: urlparse(x).query)"
   ]
  },
  {
   "cell_type": "markdown",
   "metadata": {
    "hideCode": false,
    "hidePrompt": false
   },
   "source": [
    "Add year, month, hour and day of week"
   ]
  },
  {
   "cell_type": "code",
   "execution_count": 1072,
   "metadata": {
    "hideCode": false,
    "hidePrompt": false
   },
   "outputs": [],
   "source": [
    "from datetime import datetime\n",
    "\n",
    "def to_date(d, fmt):\n",
    "    return datetime.strptime(d, '%Y-%m-%d %H:%M:%S').strftime(fmt)\n",
    "\n",
    "his['visit_day'] = his['visit_time'].apply(lambda x: to_date(x, '%a'))\n",
    "his['visit_month'] = his['visit_time'].apply(lambda x: to_date(x, '%b'))\n",
    "his['visit_hour'] = his['visit_time'].apply(lambda x: to_date(x, '%H'))\n",
    "his['visit_year'] = his['visit_time'].apply(lambda x: to_date(x, '%Y'))"
   ]
  },
  {
   "cell_type": "markdown",
   "metadata": {
    "hideCode": false,
    "hidePrompt": false
   },
   "source": [
    "## Final data"
   ]
  },
  {
   "cell_type": "code",
   "execution_count": 1073,
   "metadata": {
    "hideCode": false,
    "hidePrompt": false
   },
   "outputs": [
    {
     "data": {
      "text/html": [
       "<div>\n",
       "<style scoped>\n",
       "    .dataframe tbody tr th:only-of-type {\n",
       "        vertical-align: middle;\n",
       "    }\n",
       "\n",
       "    .dataframe tbody tr th {\n",
       "        vertical-align: top;\n",
       "    }\n",
       "\n",
       "    .dataframe thead th {\n",
       "        text-align: right;\n",
       "    }\n",
       "</style>\n",
       "<table border=\"1\" class=\"dataframe\">\n",
       "  <thead>\n",
       "    <tr style=\"text-align: right;\">\n",
       "      <th></th>\n",
       "      <th>visit_time</th>\n",
       "      <th>url</th>\n",
       "      <th>title</th>\n",
       "      <th>browser</th>\n",
       "      <th>device</th>\n",
       "      <th>domain</th>\n",
       "      <th>path</th>\n",
       "      <th>query</th>\n",
       "      <th>visit_day</th>\n",
       "      <th>visit_month</th>\n",
       "      <th>visit_hour</th>\n",
       "      <th>visit_year</th>\n",
       "    </tr>\n",
       "  </thead>\n",
       "  <tbody>\n",
       "    <tr>\n",
       "      <th>0</th>\n",
       "      <td>2019-02-04 12:05:41</td>\n",
       "      <td>https://www.mozilla.org/en-US/firefox/central/</td>\n",
       "      <td>None</td>\n",
       "      <td>moz</td>\n",
       "      <td>mac15</td>\n",
       "      <td>www.mozilla.org</td>\n",
       "      <td>/en-US/firefox/central/</td>\n",
       "      <td></td>\n",
       "      <td>Mon</td>\n",
       "      <td>Feb</td>\n",
       "      <td>12</td>\n",
       "      <td>2019</td>\n",
       "    </tr>\n",
       "    <tr>\n",
       "      <th>1</th>\n",
       "      <td>2019-02-04 12:14:50</td>\n",
       "      <td>https://www.mozilla.org/en-US/firefox/central/</td>\n",
       "      <td>None</td>\n",
       "      <td>moz</td>\n",
       "      <td>mac15</td>\n",
       "      <td>www.mozilla.org</td>\n",
       "      <td>/en-US/firefox/central/</td>\n",
       "      <td></td>\n",
       "      <td>Mon</td>\n",
       "      <td>Feb</td>\n",
       "      <td>12</td>\n",
       "      <td>2019</td>\n",
       "    </tr>\n",
       "  </tbody>\n",
       "</table>\n",
       "</div>"
      ],
      "text/plain": [
       "            visit_time                                             url title  \\\n",
       "0  2019-02-04 12:05:41  https://www.mozilla.org/en-US/firefox/central/  None   \n",
       "1  2019-02-04 12:14:50  https://www.mozilla.org/en-US/firefox/central/  None   \n",
       "\n",
       "  browser device           domain                     path query visit_day  \\\n",
       "0     moz  mac15  www.mozilla.org  /en-US/firefox/central/             Mon   \n",
       "1     moz  mac15  www.mozilla.org  /en-US/firefox/central/             Mon   \n",
       "\n",
       "  visit_month visit_hour visit_year  \n",
       "0         Feb         12       2019  \n",
       "1         Feb         12       2019  "
      ]
     },
     "execution_count": 1073,
     "metadata": {},
     "output_type": "execute_result"
    }
   ],
   "source": [
    "data = his\n",
    "data.head(2)"
   ]
  },
  {
   "cell_type": "markdown",
   "metadata": {
    "hideCode": false,
    "hidePrompt": false
   },
   "source": [
    "# Stats"
   ]
  },
  {
   "cell_type": "markdown",
   "metadata": {
    "hideCode": false,
    "hidePrompt": false
   },
   "source": [
    "## Most visited domains\n",
    "\n",
    "What are the most visited domains"
   ]
  },
  {
   "cell_type": "code",
   "execution_count": 1074,
   "metadata": {
    "hideCode": false,
    "hidePrompt": false
   },
   "outputs": [
    {
     "data": {
      "text/plain": [
       "github.com                     39335\n",
       "duckduckgo.com                 37821\n",
       "organise.earth                 16612\n",
       "extinctionrebellion.nl          8711\n",
       "docs.google.com                 8325\n",
       "www.youtube.com                 7504\n",
       "localhost:4000                  6672\n",
       "www.google.com                  6478\n",
       "base.extinctionrebellion.nl     6075\n",
       "localhost:8000                  5102\n",
       "Name: domain, dtype: int64"
      ]
     },
     "execution_count": 1074,
     "metadata": {},
     "output_type": "execute_result"
    }
   ],
   "source": [
    "# top visited domains\n",
    "data['domain'].value_counts().head(limit)"
   ]
  },
  {
   "cell_type": "markdown",
   "metadata": {
    "hideCode": false,
    "hidePrompt": false
   },
   "source": [
    "## Total visited domains"
   ]
  },
  {
   "cell_type": "code",
   "execution_count": 1075,
   "metadata": {
    "hideCode": false,
    "hidePrompt": false
   },
   "outputs": [
    {
     "data": {
      "text/plain": [
       "5543"
      ]
     },
     "execution_count": 1075,
     "metadata": {},
     "output_type": "execute_result"
    }
   ],
   "source": [
    "data['domain'].nunique()"
   ]
  },
  {
   "cell_type": "markdown",
   "metadata": {
    "hideCode": false,
    "hidePrompt": false
   },
   "source": [
    "## Date ranges"
   ]
  },
  {
   "cell_type": "code",
   "execution_count": 1076,
   "metadata": {
    "hideCode": false,
    "hidePrompt": false
   },
   "outputs": [
    {
     "data": {
      "text/plain": [
       "'2016-04-17 12:52:04'"
      ]
     },
     "execution_count": 1076,
     "metadata": {},
     "output_type": "execute_result"
    }
   ],
   "source": [
    "data['visit_time'].min()"
   ]
  },
  {
   "cell_type": "code",
   "execution_count": 1077,
   "metadata": {
    "hideCode": false,
    "hidePrompt": false
   },
   "outputs": [
    {
     "data": {
      "text/plain": [
       "'2020-04-09 17:48:06'"
      ]
     },
     "execution_count": 1077,
     "metadata": {},
     "output_type": "execute_result"
    }
   ],
   "source": [
    "data['visit_time'].max()"
   ]
  },
  {
   "cell_type": "markdown",
   "metadata": {
    "hideCode": false,
    "hidePrompt": false
   },
   "source": [
    "## Most occuring words"
   ]
  },
  {
   "cell_type": "code",
   "execution_count": 1078,
   "metadata": {
    "hideCode": false,
    "hidePrompt": false
   },
   "outputs": [],
   "source": [
    "from functools import reduce \n",
    "from collections import Counter\n",
    "import nltk\n",
    "from nltk.corpus import stopwords\n",
    "import string\n",
    "\n",
    "# nltk.download('punkt')\n",
    "# nltk.download('stopwords')\n",
    "\n",
    "# @todo Expensive method! Calculate O(n) and rewrite\n",
    "def bow(arr = [], n = limit):\n",
    "    # get all titles\n",
    "    titles = map(nltk.word_tokenize, arr)\n",
    "\n",
    "    # flatten titles list to one dimensional array\n",
    "    title_words = reduce(lambda init, a: init + a, titles)\n",
    "\n",
    "    # make a list of stop words to filter titles from\n",
    "    stop = stopwords.words('english') + list(string.punctuation) + ['\\'\\'', '``', '—', '·']\n",
    "\n",
    "    # filter stop words from titles\n",
    "    title_words_filtered = [i for i in title_words if i.strip() not in stop]\n",
    "\n",
    "    return pd.Series(title_words_filtered).value_counts().head(n)"
   ]
  },
  {
   "cell_type": "markdown",
   "metadata": {
    "hideCode": false,
    "hidePrompt": false
   },
   "source": [
    "### in keyword search (only for brave/chrome)"
   ]
  },
  {
   "cell_type": "code",
   "execution_count": 1079,
   "metadata": {
    "hideCode": false,
    "hidePrompt": false
   },
   "outputs": [
    {
     "data": {
      "text/plain": [
       "yt           86\n",
       "python       59\n",
       "docker       41\n",
       "file         36\n",
       "mac          33\n",
       "nextcloud    33\n",
       "postgres     31\n",
       "pipenv       25\n",
       "pandas       23\n",
       "apple        21\n",
       "dtype: int64"
      ]
     },
     "execution_count": 1079,
     "metadata": {},
     "output_type": "execute_result"
    }
   ],
   "source": [
    "bow(keyword_search_terms['term'].unique())"
   ]
  },
  {
   "cell_type": "markdown",
   "metadata": {
    "hideCode": false,
    "hidePrompt": false
   },
   "source": [
    "### in page titles"
   ]
  },
  {
   "cell_type": "code",
   "execution_count": 1080,
   "metadata": {
    "hideCode": false,
    "hidePrompt": false
   },
   "outputs": [],
   "source": [
    "# this is expensive for large datasets, optimize!\n",
    "# bow(his['title'].dropna().unique())"
   ]
  },
  {
   "cell_type": "markdown",
   "metadata": {
    "hideCode": false,
    "hidePrompt": false
   },
   "source": [
    "## Most visited urls"
   ]
  },
  {
   "cell_type": "code",
   "execution_count": 1081,
   "metadata": {
    "hideCode": false,
    "hidePrompt": false
   },
   "outputs": [
    {
     "data": {
      "text/plain": [
       "https://github.com/                                    1818\n",
       "https://organise.earth/                                 945\n",
       "https://base.extinctionrebellion.nl/                    907\n",
       "https://mail.google.com/mail/u/0/#inbox                 871\n",
       "https://organise.earth/xr-netherlands/channels/tech     871\n",
       "https://organise.earth/xr-netherlands                   869\n",
       "https://extinctionrebellion.nl/                         867\n",
       "https://teams.microsoft.com/go#                         853\n",
       "https://github.com/notifications                        783\n",
       "https://github.com/madhums                              762\n",
       "Name: url, dtype: int64"
      ]
     },
     "execution_count": 1081,
     "metadata": {},
     "output_type": "execute_result"
    }
   ],
   "source": [
    "data['url'].value_counts().head(limit)"
   ]
  },
  {
   "cell_type": "markdown",
   "metadata": {
    "hideCode": false,
    "hidePrompt": false
   },
   "source": [
    "## Most visited github projects\n",
    "\n",
    "From the most visited domains, github.com seems to be the top. Let's see which projects were most visited."
   ]
  },
  {
   "cell_type": "code",
   "execution_count": 1082,
   "metadata": {
    "hideCode": false,
    "hidePrompt": false
   },
   "outputs": [
    {
     "data": {
      "text/plain": [
       "/q-m/questionmark-web/issues                  795\n",
       "/q-m/questionmark-web                         472\n",
       "/q-m/questionmark-web/pulls                   456\n",
       "/DaanMeijer/extinction-rebellion-nl           355\n",
       "/madhums/node-express-mongoose-demo           353\n",
       "/DaanMeijer/extinction-rebellion-nl/issues    222\n",
       "/keystonejs/keystone/search                   209\n",
       "/xrnl/extinction-rebellion-nl                 208\n",
       "/q-m/questionmark-web/                        198\n",
       "/notifications/beta                           188\n",
       "Name: path, dtype: int64"
      ]
     },
     "execution_count": 1082,
     "metadata": {},
     "output_type": "execute_result"
    }
   ],
   "source": [
    "github_paths = data[(data['domain'] == 'github.com')]['path']\n",
    "github_project_paths = github_paths[github_paths.apply(lambda p: len(p.split('/')[1:]) > 1)]\n",
    "github_project_paths.value_counts().head(limit)"
   ]
  },
  {
   "cell_type": "markdown",
   "metadata": {
    "hideCode": false,
    "hidePrompt": false
   },
   "source": [
    "# Visualisations"
   ]
  },
  {
   "cell_type": "code",
   "execution_count": 1083,
   "metadata": {
    "hideCode": false,
    "hidePrompt": false
   },
   "outputs": [],
   "source": [
    "import seaborn as sns\n",
    "import matplotlib.pyplot as plt\n",
    "%matplotlib inline"
   ]
  },
  {
   "cell_type": "markdown",
   "metadata": {
    "hideCode": false,
    "hidePrompt": false
   },
   "source": [
    "## Heatmap of active weekday vs month"
   ]
  },
  {
   "cell_type": "code",
   "execution_count": 1084,
   "metadata": {
    "hideCode": false,
    "hidePrompt": false
   },
   "outputs": [
    {
     "data": {
      "text/html": [
       "<div>\n",
       "<style scoped>\n",
       "    .dataframe tbody tr th:only-of-type {\n",
       "        vertical-align: middle;\n",
       "    }\n",
       "\n",
       "    .dataframe tbody tr th {\n",
       "        vertical-align: top;\n",
       "    }\n",
       "\n",
       "    .dataframe thead th {\n",
       "        text-align: right;\n",
       "    }\n",
       "</style>\n",
       "<table border=\"1\" class=\"dataframe\">\n",
       "  <thead>\n",
       "    <tr style=\"text-align: right;\">\n",
       "      <th>visit_day</th>\n",
       "      <th>Fri</th>\n",
       "      <th>Mon</th>\n",
       "      <th>Sat</th>\n",
       "      <th>Sun</th>\n",
       "      <th>Thu</th>\n",
       "      <th>Tue</th>\n",
       "      <th>Wed</th>\n",
       "    </tr>\n",
       "    <tr>\n",
       "      <th>visit_month</th>\n",
       "      <th></th>\n",
       "      <th></th>\n",
       "      <th></th>\n",
       "      <th></th>\n",
       "      <th></th>\n",
       "      <th></th>\n",
       "      <th></th>\n",
       "    </tr>\n",
       "  </thead>\n",
       "  <tbody>\n",
       "    <tr>\n",
       "      <th>Apr</th>\n",
       "      <td>2533</td>\n",
       "      <td>5613</td>\n",
       "      <td>1624</td>\n",
       "      <td>2016</td>\n",
       "      <td>3503</td>\n",
       "      <td>6550</td>\n",
       "      <td>6733</td>\n",
       "    </tr>\n",
       "    <tr>\n",
       "      <th>Aug</th>\n",
       "      <td>5768</td>\n",
       "      <td>4711</td>\n",
       "      <td>3438</td>\n",
       "      <td>2259</td>\n",
       "      <td>5720</td>\n",
       "      <td>3177</td>\n",
       "      <td>3774</td>\n",
       "    </tr>\n",
       "  </tbody>\n",
       "</table>\n",
       "</div>"
      ],
      "text/plain": [
       "visit_day     Fri   Mon   Sat   Sun   Thu   Tue   Wed\n",
       "visit_month                                          \n",
       "Apr          2533  5613  1624  2016  3503  6550  6733\n",
       "Aug          5768  4711  3438  2259  5720  3177  3774"
      ]
     },
     "execution_count": 1084,
     "metadata": {},
     "output_type": "execute_result"
    }
   ],
   "source": [
    "month_day = data.pivot_table(index='visit_month',columns='visit_day', \n",
    "                             aggfunc='count', fill_value=0, values='visit_year')\n",
    "month_day.head(2)"
   ]
  },
  {
   "cell_type": "code",
   "execution_count": 1085,
   "metadata": {
    "hideCode": false,
    "hidePrompt": false
   },
   "outputs": [
    {
     "data": {
      "text/plain": [
       "<matplotlib.axes._subplots.AxesSubplot at 0x7f40c37d0e10>"
      ]
     },
     "execution_count": 1085,
     "metadata": {},
     "output_type": "execute_result"
    },
    {
     "data": {
      "image/png": "[encoded data removed]",
      "text/plain": [
       "<Figure size 576x432 with 2 Axes>"
      ]
     },
     "metadata": {
      "needs_background": "light"
     },
     "output_type": "display_data"
    }
   ],
   "source": [
    "plt.figure(figsize=(8, 6))\n",
    "sns.heatmap(month_day, cmap='Blues')"
   ]
  },
  {
   "cell_type": "markdown",
   "metadata": {
    "hideCode": false,
    "hidePrompt": false
   },
   "source": [
    "### clustering the above"
   ]
  },
  {
   "cell_type": "code",
   "execution_count": 1086,
   "metadata": {
    "hideCode": false,
    "hidePrompt": false
   },
   "outputs": [
    {
     "data": {
      "text/plain": [
       "<seaborn.matrix.ClusterGrid at 0x7f40c376c438>"
      ]
     },
     "execution_count": 1086,
     "metadata": {},
     "output_type": "execute_result"
    },
    {
     "data": {
      "image/png": "[encoded data removed]",
      "text/plain": [
       "<Figure size 720x720 with 4 Axes>"
      ]
     },
     "metadata": {
      "needs_background": "light"
     },
     "output_type": "display_data"
    }
   ],
   "source": [
    "sns.clustermap(month_day, cmap='Blues')"
   ]
  },
  {
   "cell_type": "code",
   "execution_count": 1087,
   "metadata": {
    "hideCode": false,
    "hidePrompt": false
   },
   "outputs": [],
   "source": [
    "months = [datetime(2008, x, 1).strftime('%b') for x in range(1, 13)]\n",
    "days = ['Mon', 'Tue', 'Wed', 'Thu', 'Fri', 'Sat', 'Sun']"
   ]
  },
  {
   "cell_type": "markdown",
   "metadata": {
    "hideCode": false,
    "hidePrompt": false
   },
   "source": [
    "## Browsing activity per week"
   ]
  },
  {
   "cell_type": "code",
   "execution_count": 1088,
   "metadata": {
    "hideCode": false,
    "hidePrompt": false
   },
   "outputs": [
    {
     "data": {
      "text/plain": [
       "<matplotlib.axes._subplots.AxesSubplot at 0x7f40c3771518>"
      ]
     },
     "execution_count": 1088,
     "metadata": {},
     "output_type": "execute_result"
    },
    {
     "data": {
      "image/png": "[encoded data removed]",
      "text/plain": [
       "<Figure size 432x288 with 1 Axes>"
      ]
     },
     "metadata": {
      "needs_background": "light"
     },
     "output_type": "display_data"
    }
   ],
   "source": [
    "sns.countplot(x='visit_day',data=data, order=days, hue='device')"
   ]
  },
  {
   "cell_type": "markdown",
   "metadata": {
    "hideCode": false,
    "hidePrompt": false
   },
   "source": [
    "### Comparing top domains like github, netflix, youtube etc"
   ]
  },
  {
   "cell_type": "code",
   "execution_count": 1104,
   "metadata": {
    "hideCode": false,
    "hidePrompt": false
   },
   "outputs": [
    {
     "data": {
      "text/plain": [
       "<matplotlib.axes._subplots.AxesSubplot at 0x7f40c2250978>"
      ]
     },
     "execution_count": 1104,
     "metadata": {},
     "output_type": "execute_result"
    },
    {
     "data": {
      "image/png": "[encoded data removed]",
      "text/plain": [
       "<Figure size 432x288 with 1 Axes>"
      ]
     },
     "metadata": {
      "needs_background": "light"
     },
     "output_type": "display_data"
    }
   ],
   "source": [
    "sns.countplot(x='visit_day',\n",
    "  data=data[(data['domain'] == 'www.youtube.com') | (data['domain'] == 'www.netflix.com')], \n",
    "  order=days, hue='domain', palette='Blues_r')"
   ]
  },
  {
   "cell_type": "markdown",
   "metadata": {
    "hideCode": false,
    "hidePrompt": false
   },
   "source": [
    "## Browsing activity per week divided over months"
   ]
  },
  {
   "cell_type": "code",
   "execution_count": 1090,
   "metadata": {
    "hideCode": false,
    "hidePrompt": false
   },
   "outputs": [
    {
     "data": {
      "text/plain": [
       "<seaborn.axisgrid.FacetGrid at 0x7f40d70c40f0>"
      ]
     },
     "execution_count": 1090,
     "metadata": {},
     "output_type": "execute_result"
    },
    {
     "data": {
      "image/png": "[encoded data removed]",
      "text/plain": [
       "<Figure size 934x648 with 12 Axes>"
      ]
     },
     "metadata": {
      "needs_background": "light"
     },
     "output_type": "display_data"
    }
   ],
   "source": [
    "sns.catplot(x='visit_day',data=data, \n",
    "            kind='count', col='visit_month', col_wrap=4, height=3,\n",
    "            order=days, col_order=months, hue='device')"
   ]
  },
  {
   "cell_type": "markdown",
   "metadata": {
    "hideCode": false,
    "hidePrompt": false
   },
   "source": [
    "## Browsing activity per hour"
   ]
  },
  {
   "cell_type": "code",
   "execution_count": 1091,
   "metadata": {
    "hideCode": false,
    "hidePrompt": false
   },
   "outputs": [
    {
     "data": {
      "text/plain": [
       "<matplotlib.axes._subplots.AxesSubplot at 0x7f40c30e2240>"
      ]
     },
     "execution_count": 1091,
     "metadata": {},
     "output_type": "execute_result"
    },
    {
     "data": {
      "image/png": "[encoded data removed]",
      "text/plain": [
       "<Figure size 1152x432 with 1 Axes>"
      ]
     },
     "metadata": {
      "needs_background": "light"
     },
     "output_type": "display_data"
    }
   ],
   "source": [
    "plt.figure(figsize=(16, 6))\n",
    "sns.countplot(x='visit_hour',data=data, hue='device')"
   ]
  },
  {
   "cell_type": "markdown",
   "metadata": {
    "hideCode": false,
    "hidePrompt": false
   },
   "source": [
    "## Browsing activity per hour divided over months"
   ]
  },
  {
   "cell_type": "code",
   "execution_count": 1092,
   "metadata": {
    "hideCode": false,
    "hidePrompt": false,
    "scrolled": true
   },
   "outputs": [
    {
     "data": {
      "text/plain": [
       "<seaborn.axisgrid.FacetGrid at 0x7f40c2ea8c18>"
      ]
     },
     "execution_count": 1092,
     "metadata": {},
     "output_type": "execute_result"
    },
    {
     "data": {
      "image/png": "[encoded data removed]",
      "text/plain": [
       "<Figure size 1080x1440 with 12 Axes>"
      ]
     },
     "metadata": {
      "needs_background": "light"
     },
     "output_type": "display_data"
    }
   ],
   "source": [
    "sns.catplot(x='visit_hour',data=data, \n",
    "            kind='count', col='visit_month', col_wrap=3, \n",
    "            col_order=months)"
   ]
  },
  {
   "cell_type": "markdown",
   "metadata": {
    "hideCode": false,
    "hidePrompt": false
   },
   "source": [
    "## Browsing activity per month"
   ]
  },
  {
   "cell_type": "code",
   "execution_count": 1093,
   "metadata": {
    "hideCode": false,
    "hidePrompt": false
   },
   "outputs": [
    {
     "data": {
      "text/plain": [
       "<matplotlib.axes._subplots.AxesSubplot at 0x7f40c2c06278>"
      ]
     },
     "execution_count": 1093,
     "metadata": {},
     "output_type": "execute_result"
    },
    {
     "data": {
      "image/png": "[encoded data removed]",
      "text/plain": [
       "<Figure size 576x432 with 1 Axes>"
      ]
     },
     "metadata": {
      "needs_background": "light"
     },
     "output_type": "display_data"
    }
   ],
   "source": [
    "plt.figure(figsize=(8, 6))\n",
    "sns.countplot(x='visit_month',data=data, order=months, palette='Dark2', hue='visit_year')"
   ]
  },
  {
   "cell_type": "markdown",
   "metadata": {
    "hideCode": false,
    "hidePrompt": false
   },
   "source": [
    "## Browsing activity per year"
   ]
  },
  {
   "cell_type": "code",
   "execution_count": 1094,
   "metadata": {
    "hideCode": false,
    "hidePrompt": false
   },
   "outputs": [
    {
     "data": {
      "text/plain": [
       "<matplotlib.axes._subplots.AxesSubplot at 0x7f40c296b588>"
      ]
     },
     "execution_count": 1094,
     "metadata": {},
     "output_type": "execute_result"
    },
    {
     "data": {
      "image/png": "[encoded data removed]",
      "text/plain": [
       "<Figure size 432x288 with 1 Axes>"
      ]
     },
     "metadata": {
      "needs_background": "light"
     },
     "output_type": "display_data"
    }
   ],
   "source": [
    "sns.countplot(x='visit_year',data=data, hue='device')"
   ]
  },
  {
   "cell_type": "markdown",
   "metadata": {
    "hideCode": false,
    "hidePrompt": false
   },
   "source": [
    "## Cluster map of hour of day vs day of week"
   ]
  },
  {
   "cell_type": "code",
   "execution_count": 1095,
   "metadata": {
    "hideCode": false,
    "hidePrompt": false
   },
   "outputs": [
    {
     "data": {
      "text/plain": [
       "<seaborn.matrix.ClusterGrid at 0x7f40c2946a90>"
      ]
     },
     "execution_count": 1095,
     "metadata": {},
     "output_type": "execute_result"
    },
    {
     "data": {
      "image/png": "[encoded data removed]",
      "text/plain": [
       "<Figure size 720x720 with 4 Axes>"
      ]
     },
     "metadata": {
      "needs_background": "light"
     },
     "output_type": "display_data"
    }
   ],
   "source": [
    "hour_day = data.pivot_table(index='visit_hour',columns='visit_day', \n",
    "                             aggfunc='count', fill_value=0, values='visit_year')\n",
    "sns.clustermap(hour_day, cmap='coolwarm', standard_scale=1)"
   ]
  },
  {
   "cell_type": "markdown",
   "metadata": {
    "hideCode": false,
    "hidePrompt": false
   },
   "source": [
    "## Totoal data"
   ]
  },
  {
   "cell_type": "code",
   "execution_count": 1096,
   "metadata": {
    "hideCode": false,
    "hidePrompt": false
   },
   "outputs": [
    {
     "data": {
      "text/plain": [
       "306877"
      ]
     },
     "execution_count": 1096,
     "metadata": {},
     "output_type": "execute_result"
    }
   ],
   "source": [
    "len(data) # records"
   ]
  }
 ],
 "metadata": {
  "hide_code_all_hidden": false,
  "kernelspec": {
   "display_name": "Python 3",
   "language": "python",
   "name": "python3"
  },
  "language_info": {
   "codemirror_mode": {
    "name": "ipython",
    "version": 3
   },
   "file_extension": ".py",
   "mimetype": "text/x-python",
   "name": "python",
   "nbconvert_exporter": "python",
   "pygments_lexer": "ipython3",
   "version": "3.7.6"
  },
  "toc": {
   "base_numbering": 1,
   "nav_menu": {},
   "number_sections": true,
   "sideBar": true,
   "skip_h1_title": false,
   "title_cell": "Table of Contents",
   "title_sidebar": "Contents",
   "toc_cell": false,
   "toc_position": {
    "height": "calc(100% - 180px)",
    "left": "10px",
    "top": "150px",
    "width": "366px"
   },
   "toc_section_display": true,
   "toc_window_display": true
  }
 },
 "nbformat": 4,
 "nbformat_minor": 2
}
